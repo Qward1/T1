{
 "cells": [
  {
   "cell_type": "code",
   "execution_count": null,
   "id": "2c8a9d38",
   "metadata": {},
   "outputs": [
    {
     "name": "stdout",
     "output_type": "stream",
     "text": [
      "Collecting hypercorn\n",
      "  Downloading hypercorn-0.17.3-py3-none-any.whl.metadata (5.4 kB)\n",
      "Requirement already satisfied: h11 in c:\\users\\admin\\appdata\\local\\programs\\python\\python311\\lib\\site-packages (from hypercorn) (0.16.0)\n",
      "Collecting h2>=3.1.0 (from hypercorn)\n",
      "  Downloading h2-4.3.0-py3-none-any.whl.metadata (5.1 kB)\n",
      "Collecting priority (from hypercorn)\n",
      "  Downloading priority-2.0.0-py3-none-any.whl.metadata (6.6 kB)\n",
      "Collecting wsproto>=0.14.0 (from hypercorn)\n",
      "  Downloading wsproto-1.2.0-py3-none-any.whl.metadata (5.6 kB)\n",
      "Collecting hyperframe<7,>=6.1 (from h2>=3.1.0->hypercorn)\n",
      "  Downloading hyperframe-6.1.0-py3-none-any.whl.metadata (4.3 kB)\n",
      "Collecting hpack<5,>=4.1 (from h2>=3.1.0->hypercorn)\n",
      "  Downloading hpack-4.1.0-py3-none-any.whl.metadata (4.6 kB)\n",
      "Downloading hypercorn-0.17.3-py3-none-any.whl (61 kB)\n",
      "Downloading h2-4.3.0-py3-none-any.whl (61 kB)\n",
      "Downloading hpack-4.1.0-py3-none-any.whl (34 kB)\n",
      "Downloading hyperframe-6.1.0-py3-none-any.whl (13 kB)\n",
      "Downloading wsproto-1.2.0-py3-none-any.whl (24 kB)\n",
      "Downloading priority-2.0.0-py3-none-any.whl (8.9 kB)\n",
      "Installing collected packages: wsproto, priority, hyperframe, hpack, h2, hypercorn\n",
      "\n",
      "   ------------- -------------------------- 2/6 [hyperframe]\n",
      "   -------------------- ------------------- 3/6 [hpack]\n",
      "   -------------------------- ------------- 4/6 [h2]\n",
      "   --------------------------------- ------ 5/6 [hypercorn]\n",
      "   --------------------------------- ------ 5/6 [hypercorn]\n",
      "   --------------------------------- ------ 5/6 [hypercorn]\n",
      "   --------------------------------- ------ 5/6 [hypercorn]\n",
      "   ---------------------------------------- 6/6 [hypercorn]\n",
      "\n",
      "Successfully installed h2-4.3.0 hpack-4.1.0 hypercorn-0.17.3 hyperframe-6.1.0 priority-2.0.0 wsproto-1.2.0\n",
      "Note: you may need to restart the kernel to use updated packages.\n"
     ]
    },
    {
     "name": "stderr",
     "output_type": "stream",
     "text": [
      "  WARNING: The script hypercorn.exe is installed in 'c:\\Users\\Admin\\AppData\\Local\\Programs\\Python\\Python311\\Scripts' which is not on PATH.\n",
      "  Consider adding this directory to PATH or, if you prefer to suppress this warning, use --no-warn-script-location.\n"
     ]
    }
   ],
   "source": [
    "%pip install hypercorn\n"
   ]
  },
  {
   "cell_type": "code",
   "execution_count": null,
   "id": "af04daf7",
   "metadata": {},
   "outputs": [],
   "source": []
  }
 ],
 "metadata": {
  "kernelspec": {
   "display_name": "Python 3",
   "language": "python",
   "name": "python3"
  },
  "language_info": {
   "codemirror_mode": {
    "name": "ipython",
    "version": 3
   },
   "file_extension": ".py",
   "mimetype": "text/x-python",
   "name": "python",
   "nbconvert_exporter": "python",
   "pygments_lexer": "ipython3",
   "version": "3.11.9"
  }
 },
 "nbformat": 4,
 "nbformat_minor": 5
}
